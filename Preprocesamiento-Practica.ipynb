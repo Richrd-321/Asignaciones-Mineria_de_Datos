{
 "cells": [
  {
   "cell_type": "markdown",
   "id": "f1d41522",
   "metadata": {},
   "source": [
    "# **Mineria de Datos - PREPROCESAMIENTO**\n",
    "\n",
    "#### *Nombre:* PEREIRA CHINCHERO Richard Mikhael\n",
    "#### *Codigo:* 171916\n",
    "#### *Proposito:* \n",
    "    1.- Implementar en un notebook los algoritmos de preprocesamiento en pyspark "
   ]
  },
  {
   "cell_type": "markdown",
   "id": "e2006080",
   "metadata": {
    "id": "e2006080"
   },
   "source": [
    "### 1) Similitud de Cosenos"
   ]
  },
  {
   "cell_type": "code",
   "execution_count": null,
   "id": "78f64b4a",
   "metadata": {
    "id": "78f64b4a"
   },
   "outputs": [],
   "source": [
    "def sCosenos(x,y):\n",
    "    def punto(x,y):\n",
    "        return x.zip(y).map(lambda x: x[0]*x[1]).reduce(lambda x , y :x+y) \n",
    "    den=punto(x,x)*punto(y,y)\n",
    "    return num/den"
   ]
  },
  {
   "cell_type": "code",
   "execution_count": null,
   "id": "1c8649b1",
   "metadata": {
    "id": "1c8649b1",
    "outputId": "961c7002-d87b-41aa-dfdd-64b9e00c6709"
   },
   "outputs": [
    {
     "name": "stdout",
     "output_type": "stream",
     "text": [
      "5.1313658596339945e-06\n"
     ]
    }
   ],
   "source": [
    "x = sc.parallelize(range(0,50),4)\n",
    "y = sc.parallelize(range(100, 150),4)\n",
    "print(sCosenos(x,y))"
   ]
  },
  {
   "cell_type": "markdown",
   "id": "5d06257b",
   "metadata": {
    "id": "5d06257b"
   },
   "source": [
    "### 2) Escalonamiento"
   ]
  },
  {
   "cell_type": "code",
   "execution_count": null,
   "id": "cd8c256f",
   "metadata": {
    "id": "cd8c256f"
   },
   "outputs": [],
   "source": [
    "def escalonamiento(x):\n",
    "    minimo = x.min()\n",
    "    maximo = x.max()\n",
    "    lista= x.map(lambda xi : (xi-minimo)/(maximo-minimo))\n",
    "    return lista "
   ]
  },
  {
   "cell_type": "code",
   "execution_count": null,
   "id": "46accf2f",
   "metadata": {
    "id": "46accf2f",
    "outputId": "c8f01545-a867-407c-8f67-5273ffbd98af"
   },
   "outputs": [
    {
     "name": "stdout",
     "output_type": "stream",
     "text": [
      "[0.0, 0.1111111111111111, 0.2222222222222222, 0.3333333333333333, 0.4444444444444444, 0.5555555555555556, 0.6666666666666666, 0.7777777777777778, 0.8888888888888888, 1.0]\n"
     ]
    }
   ],
   "source": [
    "Vec = sc.parallelize(range(25,35),4)\n",
    "VectorEs=escalonamiento(Vec)\n",
    "print(VectorEs.collect())"
   ]
  },
  {
   "cell_type": "markdown",
   "id": "a4a75f11",
   "metadata": {
    "id": "a4a75f11"
   },
   "source": [
    "### 3) Normalizacion"
   ]
  },
  {
   "cell_type": "code",
   "execution_count": null,
   "id": "a61fa425",
   "metadata": {
    "id": "a61fa425"
   },
   "outputs": [],
   "source": [
    "import math\n",
    "def normalizacion(x):\n",
    "    listaCuadrada=x.map(lambda xi:xi*xi)\n",
    "    total=listaCuadrada.sum()\n",
    "    val=math.sqrt(total)\n",
    "    lista= x.map(lambda xi :(xi/val))#escalonamos cada elemento com map\n",
    "    return lista #retornamos el RDD escalonado"
   ]
  },
  {
   "cell_type": "code",
   "execution_count": null,
   "id": "37cd983b",
   "metadata": {
    "id": "37cd983b",
    "outputId": "6854a073-363a-4412-b4df-b1b07eb7010d"
   },
   "outputs": [
    {
     "name": "stdout",
     "output_type": "stream",
     "text": [
      "[0.26672831766946736, 0.277397450376246, 0.28806658308302474, 0.2987357157898034, 0.3094048484965821, 0.32007398120336084, 0.3307431139101395, 0.3414122466169182, 0.3520813793236969, 0.3627505120304756]\n"
     ]
    }
   ],
   "source": [
    "Vec = sc.parallelize(range(25,35),4)\n",
    "VectorEs=normalizacion(Vec)\n",
    "print(VectorEs.collect())"
   ]
  },
  {
   "cell_type": "markdown",
   "id": "b161f03d",
   "metadata": {
    "id": "b161f03d"
   },
   "source": [
    "### 4) Binarizacion"
   ]
  },
  {
   "cell_type": "code",
   "execution_count": null,
   "id": "709d0b42",
   "metadata": {
    "id": "709d0b42"
   },
   "outputs": [],
   "source": [
    "def Binario(Doc):\n",
    "    val=map(lambda x:(x,1),Doc)\n",
    "    return list(val)"
   ]
  },
  {
   "cell_type": "code",
   "execution_count": null,
   "id": "e58981e1",
   "metadata": {
    "id": "e58981e1",
    "outputId": "530af11c-1358-4b70-fd66-0f8ccd036137"
   },
   "outputs": [
    {
     "name": "stdout",
     "output_type": "stream",
     "text": [
      "[('messi', 1), ('messi', 1), ('messi', 1), ('ronaldo', 1), ('ronaldo', 1), ('balon', 1)]\n"
     ]
    },
    {
     "data": {
      "text/plain": [
       "[[('messi', 1),\n",
       "  ('messi', 1),\n",
       "  ('messi', 1),\n",
       "  ('ronaldo', 1),\n",
       "  ('ronaldo', 1),\n",
       "  ('balon', 1)],\n",
       " [('pogba', 1), ('neymar', 1), ('meta', 1), ('meta', 1), ('kun', 1)],\n",
       " [('messi', 1), ('balon', 1), ('kun', 1), ('kun', 1)]]"
      ]
     },
     "execution_count": 30,
     "metadata": {},
     "output_type": "execute_result"
    }
   ],
   "source": [
    "A=[[\"messi\",\"messi\",\"messi\",\"ronaldo\",\"ronaldo\",\"balon\"]\n",
    "    ,[\"pogba\",\"neymar\",\"meta\",\"meta\",\"kun\"]\n",
    "    ,[\"messi\",\"balon\",\"kun\",\"kun\"]]\n",
    "t=A[0]\n",
    "print(Binario(t))\n",
    "Vec = sc.parallelize(A,4)\n",
    "Vec2 = Vec.map(lambda x:Binario(x))\n",
    "Vec2.collect()"
   ]
  },
  {
   "cell_type": "markdown",
   "id": "46f035c0",
   "metadata": {
    "id": "46f035c0"
   },
   "source": [
    "### 5) BAG OF WORDS (BoW)"
   ]
  },
  {
   "cell_type": "code",
   "execution_count": null,
   "id": "175e8ed9",
   "metadata": {
    "id": "175e8ed9",
    "outputId": "4adeb51b-8b1d-4ebf-91da-edd2348fc3d7"
   },
   "outputs": [
    {
     "data": {
      "text/plain": [
       "[['apple',\n",
       "  'want',\n",
       "  'commute',\n",
       "  'easy',\n",
       "  'amp',\n",
       "  'accord',\n",
       "  'new',\n",
       "  'patent',\n",
       "  'battery',\n",
       "  'aaplstudio',\n",
       "  'outlet',\n",
       "  'computer',\n",
       "  'need',\n",
       "  'battery',\n",
       "  'future'],\n",
       " ['need', 'help', 'apple', 'iphone6', 'amp', 'iphone6plus', 'checkitout']]"
      ]
     },
     "execution_count": 2,
     "metadata": {},
     "output_type": "execute_result"
    }
   ],
   "source": [
    "def bagofwords(Doc):\n",
    "    x=Doc.strip().lower().split()\n",
    "    return list(filter(lambda x:len(x)>2,x))\n",
    "Corpus=[\"apple want commute easy amp accord new patent battery aapl\"\n",
    "\"studio outlet computer need battery future\",\n",
    "        \"need help apple iphone6 amp iphone6plus checkitout\"]\n",
    "Texto=sc.parallelize(Corpus,6)\n",
    "Texto=Texto.map(bagofwords)\n",
    "Texto.take(2)"
   ]
  }
 ],
 "metadata": {
  "colab": {
   "name": "Tarea2PySpark.ipynb",
   "provenance": []
  },
  "kernelspec": {
   "display_name": "Python 3 (ipykernel)",
   "language": "python",
   "name": "python3"
  },
  "language_info": {
   "codemirror_mode": {
    "name": "ipython",
    "version": 3
   },
   "file_extension": ".py",
   "mimetype": "text/x-python",
   "name": "python",
   "nbconvert_exporter": "python",
   "pygments_lexer": "ipython3",
   "version": "3.9.6"
  }
 },
 "nbformat": 4,
 "nbformat_minor": 5
}
