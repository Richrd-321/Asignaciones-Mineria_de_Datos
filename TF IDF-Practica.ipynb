{
 "cells": [
  {
   "cell_type": "markdown",
   "id": "2960b370",
   "metadata": {},
   "source": [
    "# **Mineria de Datos - TD IDF**\n",
    "\n",
    "#### *Nombre:* PEREIRA CHINCHERO Richard Mikhael\n",
    "#### *Codigo:* 171916\n",
    "#### *Proposito:* \n",
    "    1.- Implementar en un notebook pyspark usando mapreduce el algoritmo TF-IDF "
   ]
  },
  {
   "cell_type": "markdown",
   "id": "41d59cec",
   "metadata": {},
   "source": [
    "## **Librerias**"
   ]
  },
  {
   "cell_type": "code",
   "execution_count": 6,
   "id": "fab242f6",
   "metadata": {},
   "outputs": [],
   "source": [
    "# Iniciarlizacion de PySpark\n",
    "import findspark\n",
    "findspark.init()"
   ]
  },
  {
   "cell_type": "code",
   "execution_count": 10,
   "id": "af7fa282",
   "metadata": {},
   "outputs": [],
   "source": [
    "# Importacion de librerias principales\n",
    "import pyspark # only run after findspark.init()\n",
    "from pyspark.sql import SparkSession\n",
    "from pyspark import SparkContext\n",
    "spark = SparkSession.builder.appName('TF IDF')\\\n",
    "    .config('spark.master', 'local[4]')\\\n",
    "    .config('spark.shuffle.sql.partitions', 1)\\\n",
    "    .sc = SparkContext.getOrCreate()"
   ]
  },
  {
   "cell_type": "code",
   "execution_count": 13,
   "id": "ed205c98",
   "metadata": {},
   "outputs": [],
   "source": [
    "import pyspark # only run after findspark.init()\n",
    "from pyspark import SparkContext\n",
    "sc = SparkContext.getOrCreate()"
   ]
  },
  {
   "cell_type": "code",
   "execution_count": 14,
   "id": "7486187a",
   "metadata": {},
   "outputs": [
    {
     "data": {
      "text/html": [
       "\n",
       "        <div>\n",
       "            <p><b>SparkContext</b></p>\n",
       "\n",
       "            <p><a href=\"http://192.168.1.13:4040\">Spark UI</a></p>\n",
       "\n",
       "            <dl>\n",
       "              <dt>Version</dt>\n",
       "                <dd><code>v3.0.3</code></dd>\n",
       "              <dt>Master</dt>\n",
       "                <dd><code>local[*]</code></dd>\n",
       "              <dt>AppName</dt>\n",
       "                <dd><code>pyspark-shell</code></dd>\n",
       "            </dl>\n",
       "        </div>\n",
       "        "
      ],
      "text/plain": [
       "<SparkContext master=local[*] appName=pyspark-shell>"
      ]
     },
     "execution_count": 14,
     "metadata": {},
     "output_type": "execute_result"
    }
   ],
   "source": [
    "# Verificacion de la Importacion\n",
    "spark"
   ]
  },
  {
   "cell_type": "markdown",
   "id": "7b97c3de",
   "metadata": {},
   "source": [
    "# **Datos de Prueba**"
   ]
  },
  {
   "cell_type": "code",
   "execution_count": 22,
   "id": "885174df",
   "metadata": {},
   "outputs": [
    {
     "data": {
      "text/plain": [
       "[(1, 'i love dogs'),\n",
       " (2, 'i hate dogs and knitting'),\n",
       " (3, 'knitting is my hobby and my passion')]"
      ]
     },
     "execution_count": 22,
     "metadata": {},
     "output_type": "execute_result"
    }
   ],
   "source": [
    "data=[(1,'i love dogs'),(2,\"i hate dogs and knitting\"),(3,\"knitting is my hobby and my passion\")]\n",
    "lineas=sc.parallelize(data)\n",
    "lineas.collect()"
   ]
  },
  {
   "cell_type": "markdown",
   "id": "f6f6936d",
   "metadata": {},
   "source": [
    "## Paso1:     \n",
    "    Asignamos un valor o clave como ID. Usaremos la transforacion flatMap aqui para combinar todos los tokens en una sola lista   \n",
    "\n",
    "    ('linea id', 'text') => (('linea id', 'token'), 1)"
   ]
  },
  {
   "cell_type": "code",
   "execution_count": 23,
   "id": "6e48969e",
   "metadata": {},
   "outputs": [
    {
     "data": {
      "text/plain": [
       "[((1, 'i'), 1),\n",
       " ((1, 'love'), 1),\n",
       " ((1, 'dogs'), 1),\n",
       " ((2, 'i'), 1),\n",
       " ((2, 'hate'), 1),\n",
       " ((2, 'dogs'), 1),\n",
       " ((2, 'and'), 1),\n",
       " ((2, 'knitting'), 1),\n",
       " ((3, 'knitting'), 1),\n",
       " ((3, 'is'), 1),\n",
       " ((3, 'my'), 1),\n",
       " ((3, 'hobby'), 1),\n",
       " ((3, 'and'), 1),\n",
       " ((3, 'my'), 1),\n",
       " ((3, 'passion'), 1)]"
      ]
     },
     "execution_count": 23,
     "metadata": {},
     "output_type": "execute_result"
    }
   ],
   "source": [
    "# Usamos la transformacion\n",
    "map1=lineas.flatMap(lambda x: [((x[0],i),1) for i in x[1].split()])\n",
    "map1.collect()"
   ]
  },
  {
   "cell_type": "markdown",
   "id": "cdfdf4f5",
   "metadata": {},
   "source": [
    "## Paso 2: \n",
    "    En este paso, agruparemos los pares clave / valor con la clave común y agregaremos los valores de la misma clave para obtener la frecuencia del término para una palabra en particular correspondiente a su ID de documento.  \n",
    "\n",
    "    ('linea id', 'text') => (('linea id', 'token'), [1+1+1...])"
   ]
  },
  {
   "cell_type": "code",
   "execution_count": 24,
   "id": "4bd942e3",
   "metadata": {},
   "outputs": [
    {
     "data": {
      "text/plain": [
       "[((2, 'i'), 1),\n",
       " ((2, 'dogs'), 1),\n",
       " ((3, 'passion'), 1),\n",
       " ((3, 'hobby'), 1),\n",
       " ((1, 'i'), 1),\n",
       " ((1, 'dogs'), 1),\n",
       " ((2, 'and'), 1),\n",
       " ((2, 'knitting'), 1),\n",
       " ((3, 'my'), 2),\n",
       " ((1, 'love'), 1),\n",
       " ((2, 'hate'), 1),\n",
       " ((3, 'knitting'), 1),\n",
       " ((3, 'and'), 1),\n",
       " ((3, 'is'), 1)]"
      ]
     },
     "execution_count": 24,
     "metadata": {},
     "output_type": "execute_result"
    }
   ],
   "source": [
    "reduce=map1.reduceByKey(lambda x,y:x+y)\n",
    "reduce.collect()"
   ]
  },
  {
   "cell_type": "markdown",
   "id": "17b7a930",
   "metadata": {},
   "source": [
    "## Paso 3: \n",
    "    En este paso, cambiaremos los pares clave / valor a un nuevo conjunto de clave / valor / pares con tokens como clave y su ID de documento y la frecuencia de término respectiva como valores. \n",
    "\n",
    "    (('linea id', 'token', TF) => ('token', ('linea id', TF))"
   ]
  },
  {
   "cell_type": "code",
   "execution_count": 37,
   "id": "6cfd0542",
   "metadata": {},
   "outputs": [
    {
     "data": {
      "text/plain": [
       "[('i', (2, 1)),\n",
       " ('dogs', (2, 1)),\n",
       " ('my', (3, 2)),\n",
       " ('love', (1, 1)),\n",
       " ('passion', (3, 1)),\n",
       " ('hate', (2, 1)),\n",
       " ('knitting', (3, 1)),\n",
       " ('hobby', (3, 1)),\n",
       " ('and', (3, 1)),\n",
       " ('i', (1, 1)),\n",
       " ('dogs', (1, 1)),\n",
       " ('and', (2, 1)),\n",
       " ('knitting', (2, 1)),\n",
       " ('is', (3, 1))]"
      ]
     },
     "execution_count": 37,
     "metadata": {},
     "output_type": "execute_result"
    }
   ],
   "source": [
    "tf=reduce.map(lambda x: (x[0][1],(x[0][0],x[1])))\n",
    "tf.collect()"
   ]
  },
  {
   "cell_type": "markdown",
   "id": "eee33f49",
   "metadata": {},
   "source": []
  },
  {
   "attachments": {
    "image.png": {
     "image/png": "[encoded data removed]"
    }
   },
   "cell_type": "markdown",
   "id": "8f1c5439",
   "metadata": {},
   "source": [
    "# **Calculo de la frecuencia inversa de Documentos (IDF)**\n",
    "\n",
    "    La puntuación IDF nos dice qué tan importante es una palabra en particular en todo el corpus. Por ejemplo, si aparece una palabra en cada documento, la puntuación de la FDI será cero para eso.\n",
    "\n",
    "![image.png](attachment:image.png)"
   ]
  },
  {
   "cell_type": "code",
   "execution_count": 38,
   "id": "fde8236f",
   "metadata": {},
   "outputs": [
    {
     "data": {
      "text/plain": [
       "[('i', (2, 1, 1)),\n",
       " ('dogs', (2, 1, 1)),\n",
       " ('my', (3, 2, 1)),\n",
       " ('love', (1, 1, 1)),\n",
       " ('passion', (3, 1, 1)),\n",
       " ('hate', (2, 1, 1)),\n",
       " ('knitting', (3, 1, 1)),\n",
       " ('hobby', (3, 1, 1)),\n",
       " ('and', (3, 1, 1)),\n",
       " ('i', (1, 1, 1)),\n",
       " ('dogs', (1, 1, 1)),\n",
       " ('and', (2, 1, 1)),\n",
       " ('knitting', (2, 1, 1)),\n",
       " ('is', (3, 1, 1))]"
      ]
     },
     "execution_count": 38,
     "metadata": {},
     "output_type": "execute_result"
    }
   ],
   "source": [
    "# Mapeo: a partir de identificador o id como clave del TF.\n",
    "map3=reduce.map(lambda x: (x[0][1],(x[0][0],x[1],1))) #Aqui la clave sera el token y su valor sera el identificados\n",
    "map3.collect()"
   ]
  },
  {
   "cell_type": "code",
   "execution_count": 40,
   "id": "d02bb362",
   "metadata": {},
   "outputs": [
    {
     "data": {
      "text/plain": [
       "[('i', 1),\n",
       " ('dogs', 1),\n",
       " ('my', 1),\n",
       " ('love', 1),\n",
       " ('passion', 1),\n",
       " ('hate', 1),\n",
       " ('knitting', 1),\n",
       " ('hobby', 1),\n",
       " ('and', 1),\n",
       " ('i', 1),\n",
       " ('dogs', 1),\n",
       " ('and', 1),\n",
       " ('knitting', 1),\n",
       " ('is', 1)]"
      ]
     },
     "execution_count": 40,
     "metadata": {},
     "output_type": "execute_result"
    }
   ],
   "source": [
    "map4=map3.map(lambda x:(x[0],x[1][2])) # Aqui extraemos el token y el numero de contador de i como ocurrencia en ciertos documentos\n",
    "map4.collect()"
   ]
  },
  {
   "cell_type": "code",
   "execution_count": 41,
   "id": "afa1a891",
   "metadata": {},
   "outputs": [
    {
     "data": {
      "text/plain": [
       "[('i', 2),\n",
       " ('dogs', 2),\n",
       " ('passion', 1),\n",
       " ('knitting', 2),\n",
       " ('hobby', 1),\n",
       " ('and', 2),\n",
       " ('love', 1),\n",
       " ('hate', 1),\n",
       " ('is', 1),\n",
       " ('my', 1)]"
      ]
     },
     "execution_count": 41,
     "metadata": {},
     "output_type": "execute_result"
    }
   ],
   "source": [
    "# Reducireduce2=map4.reduceByKey(lambda x,y:x+y)\n",
    "reduce2=map4.reduceByKey(lambda x,y:x+y)\n",
    "reduce2.collect()"
   ]
  },
  {
   "cell_type": "code",
   "execution_count": 42,
   "id": "5fe1ed7a",
   "metadata": {},
   "outputs": [
    {
     "data": {
      "text/plain": [
       "[('i', 0.17609125905568124),\n",
       " ('dogs', 0.17609125905568124),\n",
       " ('passion', 0.47712125471966244),\n",
       " ('knitting', 0.17609125905568124),\n",
       " ('hobby', 0.47712125471966244),\n",
       " ('and', 0.17609125905568124),\n",
       " ('love', 0.47712125471966244),\n",
       " ('hate', 0.47712125471966244),\n",
       " ('is', 0.47712125471966244),\n",
       " ('my', 0.47712125471966244)]"
      ]
     },
     "execution_count": 42,
     "metadata": {},
     "output_type": "execute_result"
    }
   ],
   "source": [
    "import math\n",
    "\n",
    "from pyspark.sql.functions import *\n",
    "\n",
    "idf=reduce2.map(lambda x: (x[0],math.log10(len(data)/x[1])))\n",
    "idf.collect()"
   ]
  },
  {
   "cell_type": "markdown",
   "id": "d54df3f3",
   "metadata": {},
   "source": []
  },
  {
   "cell_type": "markdown",
   "id": "9ee50649",
   "metadata": {},
   "source": [
    "# **Computacion TD-IDF**\n",
    "    Ahora tenemos dos RDD, uno con la identificación del documento junto con la frecuencia del término del documento para cada token. Otro RDD que tiene puntuaciones IDF para cada token. \n",
    "\n",
    "    Para obtener el TF con el IDF realizaremos una combinacioninterna para signar a cada token una identificacion de documento."
   ]
  },
  {
   "cell_type": "code",
   "execution_count": 43,
   "id": "a28a1205",
   "metadata": {},
   "outputs": [
    {
     "data": {
      "text/plain": [
       "[('i', ((2, 1), 0.17609125905568124)),\n",
       " ('i', ((1, 1), 0.17609125905568124)),\n",
       " ('dogs', ((2, 1), 0.17609125905568124)),\n",
       " ('dogs', ((1, 1), 0.17609125905568124)),\n",
       " ('passion', ((3, 1), 0.47712125471966244)),\n",
       " ('hobby', ((3, 1), 0.47712125471966244)),\n",
       " ('hate', ((2, 1), 0.47712125471966244)),\n",
       " ('my', ((3, 2), 0.47712125471966244)),\n",
       " ('knitting', ((3, 1), 0.17609125905568124)),\n",
       " ('knitting', ((2, 1), 0.17609125905568124)),\n",
       " ('and', ((3, 1), 0.17609125905568124)),\n",
       " ('and', ((2, 1), 0.17609125905568124)),\n",
       " ('love', ((1, 1), 0.47712125471966244)),\n",
       " ('is', ((3, 1), 0.47712125471966244))]"
      ]
     },
     "execution_count": 43,
     "metadata": {},
     "output_type": "execute_result"
    }
   ],
   "source": [
    "rdd=tf.join(idf)\n",
    "rdd.collect()"
   ]
  },
  {
   "cell_type": "code",
   "execution_count": 44,
   "id": "2a22df51",
   "metadata": {},
   "outputs": [
    {
     "data": {
      "text/plain": [
       "[(1, ('i', 1, 0.17609125905568124, 0.17609125905568124)),\n",
       " (1, ('dogs', 1, 0.17609125905568124, 0.17609125905568124)),\n",
       " (1, ('love', 1, 0.47712125471966244, 0.47712125471966244)),\n",
       " (2, ('i', 1, 0.17609125905568124, 0.17609125905568124)),\n",
       " (2, ('dogs', 1, 0.17609125905568124, 0.17609125905568124)),\n",
       " (2, ('hate', 1, 0.47712125471966244, 0.47712125471966244)),\n",
       " (2, ('knitting', 1, 0.17609125905568124, 0.17609125905568124)),\n",
       " (2, ('and', 1, 0.17609125905568124, 0.17609125905568124)),\n",
       " (3, ('passion', 1, 0.47712125471966244, 0.47712125471966244)),\n",
       " (3, ('hobby', 1, 0.47712125471966244, 0.47712125471966244)),\n",
       " (3, ('my', 2, 0.47712125471966244, 0.9542425094393249)),\n",
       " (3, ('knitting', 1, 0.17609125905568124, 0.17609125905568124)),\n",
       " (3, ('and', 1, 0.17609125905568124, 0.17609125905568124)),\n",
       " (3, ('is', 1, 0.47712125471966244, 0.47712125471966244))]"
      ]
     },
     "execution_count": 44,
     "metadata": {},
     "output_type": "execute_result"
    }
   ],
   "source": [
    "rdd=rdd.map(lambda x: (x[1][0][0],(x[0],x[1][0][1],x[1][1],x[1][0][1]*x[1][1]))).sortByKey()\n",
    "rdd.collect()"
   ]
  },
  {
   "cell_type": "code",
   "execution_count": 45,
   "id": "04b4dc6c",
   "metadata": {},
   "outputs": [
    {
     "name": "stdout",
     "output_type": "stream",
     "text": [
      "+----------+--------+---+-------------------+-------------------+\n",
      "|DocumentId|   Token| TF|                IDF|             TF-IDF|\n",
      "+----------+--------+---+-------------------+-------------------+\n",
      "|         1|       i|  1|0.17609125905568124|0.17609125905568124|\n",
      "|         1|    dogs|  1|0.17609125905568124|0.17609125905568124|\n",
      "|         1|    love|  1|0.47712125471966244|0.47712125471966244|\n",
      "|         2|       i|  1|0.17609125905568124|0.17609125905568124|\n",
      "|         2|    dogs|  1|0.17609125905568124|0.17609125905568124|\n",
      "|         2|    hate|  1|0.47712125471966244|0.47712125471966244|\n",
      "|         2|knitting|  1|0.17609125905568124|0.17609125905568124|\n",
      "|         2|     and|  1|0.17609125905568124|0.17609125905568124|\n",
      "|         3| passion|  1|0.47712125471966244|0.47712125471966244|\n",
      "|         3|   hobby|  1|0.47712125471966244|0.47712125471966244|\n",
      "|         3|      my|  2|0.47712125471966244| 0.9542425094393249|\n",
      "|         3|knitting|  1|0.17609125905568124|0.17609125905568124|\n",
      "|         3|     and|  1|0.17609125905568124|0.17609125905568124|\n",
      "|         3|      is|  1|0.47712125471966244|0.47712125471966244|\n",
      "+----------+--------+---+-------------------+-------------------+\n",
      "\n"
     ]
    }
   ],
   "source": [
    "# Mostrar el TD-IDF\n",
    "rdd=rdd.map(lambda x: (x[0],x[1][0],x[1][1],x[1][2],x[1][3]))\n",
    "rdd.toDF([\"DocumentId\",\"Token\",\"TF\",\"IDF\",\"TF-IDF\"]).show()"
   ]
  }
 ],
 "metadata": {
  "kernelspec": {
   "display_name": "Python 3 (ipykernel)",
   "language": "python",
   "name": "python3"
  },
  "language_info": {
   "codemirror_mode": {
    "name": "ipython",
    "version": 3
   },
   "file_extension": ".py",
   "mimetype": "text/x-python",
   "name": "python",
   "nbconvert_exporter": "python",
   "pygments_lexer": "ipython3",
   "version": "3.9.6"
  }
 },
 "nbformat": 4,
 "nbformat_minor": 5
}
